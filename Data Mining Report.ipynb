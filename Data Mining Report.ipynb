{
 "cells": [
  {
   "cell_type": "markdown",
   "metadata": {},
   "source": [
    "_______________________________________________"
   ]
  },
  {
   "cell_type": "markdown",
   "metadata": {},
   "source": [
    "# Problem Understanding,\n",
    "predict the position [defense, offense, goalkeeping] for a soccer player from the average scores and the overall raiting\n"
   ]
  },
  {
   "cell_type": "markdown",
   "metadata": {},
   "source": [
    "# Data Understanding\n",
    "## Reading and extract the data from SQLite"
   ]
  },
  {
   "cell_type": "code",
   "execution_count": 3,
   "metadata": {},
   "outputs": [
    {
     "data": {
      "text/html": [
       "<ol class=list-inline>\n",
       "\t<li>'Country'</li>\n",
       "\t<li>'League'</li>\n",
       "\t<li>'Match'</li>\n",
       "\t<li>'Player'</li>\n",
       "\t<li>'Player_Attributes'</li>\n",
       "\t<li>'Team'</li>\n",
       "\t<li>'Team_Attributes'</li>\n",
       "\t<li>'sqlite_sequence'</li>\n",
       "</ol>\n"
      ],
      "text/latex": [
       "\\begin{enumerate*}\n",
       "\\item 'Country'\n",
       "\\item 'League'\n",
       "\\item 'Match'\n",
       "\\item 'Player'\n",
       "\\item 'Player\\_Attributes'\n",
       "\\item 'Team'\n",
       "\\item 'Team\\_Attributes'\n",
       "\\item 'sqlite\\_sequence'\n",
       "\\end{enumerate*}\n"
      ],
      "text/markdown": [
       "1. 'Country'\n",
       "2. 'League'\n",
       "3. 'Match'\n",
       "4. 'Player'\n",
       "5. 'Player_Attributes'\n",
       "6. 'Team'\n",
       "7. 'Team_Attributes'\n",
       "8. 'sqlite_sequence'\n",
       "\n",
       "\n"
      ],
      "text/plain": [
       "[1] \"Country\"           \"League\"            \"Match\"            \n",
       "[4] \"Player\"            \"Player_Attributes\" \"Team\"             \n",
       "[7] \"Team_Attributes\"   \"sqlite_sequence\"  "
      ]
     },
     "metadata": {},
     "output_type": "display_data"
    }
   ],
   "source": [
    " library(\"RSQLite\")\n",
    "library(DBI)\n",
    "# connect to the sqlite file\n",
    "con = dbConnect(RSQLite::SQLite(), dbname=\"Soccer.sqlite\")\n",
    "# get a list of all tables\n",
    "alltables = dbListTables(con)\n",
    "dbListTables(con) # print table names to know which one will we use \n",
    "\n",
    "#export Player  and Player_Attributes tables from SQLite to CSV\n",
    "Player =  dbReadTable(con, \"Player\")\n",
    "write.csv(Player, file = \"Player.csv\") \n",
    "P_Attributes  = dbReadTable(con, \"Player_Attributes\")\n",
    "write.csv(P_Attributes, file = \"Player_Attributes.csv\")\n",
    " "
   ]
  },
  {
   "cell_type": "markdown",
   "metadata": {},
   "source": [
    "#### now we will working direct with the CSV files\n",
    "#### merge the Player  and Player_Attributes to work on one file"
   ]
  },
  {
   "cell_type": "code",
   "execution_count": 10,
   "metadata": {},
   "outputs": [
    {
     "data": {
      "text/html": [
       "<ol class=list-inline>\n",
       "\t<li>'player_api_id'</li>\n",
       "\t<li>'X.x'</li>\n",
       "\t<li>'id.x'</li>\n",
       "\t<li>'player_name'</li>\n",
       "\t<li>'player_fifa_api_id.x'</li>\n",
       "\t<li>'birthday'</li>\n",
       "\t<li>'height'</li>\n",
       "\t<li>'weight'</li>\n",
       "\t<li>'X.y'</li>\n",
       "\t<li>'id.y'</li>\n",
       "\t<li>'player_fifa_api_id.y'</li>\n",
       "\t<li>'date'</li>\n",
       "\t<li>'overall_rating'</li>\n",
       "\t<li>'potential'</li>\n",
       "\t<li>'preferred_foot'</li>\n",
       "\t<li>'attacking_work_rate'</li>\n",
       "\t<li>'defensive_work_rate'</li>\n",
       "\t<li>'crossing'</li>\n",
       "\t<li>'finishing'</li>\n",
       "\t<li>'heading_accuracy'</li>\n",
       "\t<li>'short_passing'</li>\n",
       "\t<li>'volleys'</li>\n",
       "\t<li>'dribbling'</li>\n",
       "\t<li>'curve'</li>\n",
       "\t<li>'free_kick_accuracy'</li>\n",
       "\t<li>'long_passing'</li>\n",
       "\t<li>'ball_control'</li>\n",
       "\t<li>'acceleration'</li>\n",
       "\t<li>'sprint_speed'</li>\n",
       "\t<li>'agility'</li>\n",
       "\t<li>'reactions'</li>\n",
       "\t<li>'balance'</li>\n",
       "\t<li>'shot_power'</li>\n",
       "\t<li>'jumping'</li>\n",
       "\t<li>'stamina'</li>\n",
       "\t<li>'strength'</li>\n",
       "\t<li>'long_shots'</li>\n",
       "\t<li>'aggression'</li>\n",
       "\t<li>'interceptions'</li>\n",
       "\t<li>'positioning'</li>\n",
       "\t<li>'vision'</li>\n",
       "\t<li>'penalties'</li>\n",
       "\t<li>'marking'</li>\n",
       "\t<li>'standing_tackle'</li>\n",
       "\t<li>'sliding_tackle'</li>\n",
       "\t<li>'gk_diving'</li>\n",
       "\t<li>'gk_handling'</li>\n",
       "\t<li>'gk_kicking'</li>\n",
       "\t<li>'gk_positioning'</li>\n",
       "\t<li>'gk_reflexes'</li>\n",
       "</ol>\n"
      ],
      "text/latex": [
       "\\begin{enumerate*}\n",
       "\\item 'player\\_api\\_id'\n",
       "\\item 'X.x'\n",
       "\\item 'id.x'\n",
       "\\item 'player\\_name'\n",
       "\\item 'player\\_fifa\\_api\\_id.x'\n",
       "\\item 'birthday'\n",
       "\\item 'height'\n",
       "\\item 'weight'\n",
       "\\item 'X.y'\n",
       "\\item 'id.y'\n",
       "\\item 'player\\_fifa\\_api\\_id.y'\n",
       "\\item 'date'\n",
       "\\item 'overall\\_rating'\n",
       "\\item 'potential'\n",
       "\\item 'preferred\\_foot'\n",
       "\\item 'attacking\\_work\\_rate'\n",
       "\\item 'defensive\\_work\\_rate'\n",
       "\\item 'crossing'\n",
       "\\item 'finishing'\n",
       "\\item 'heading\\_accuracy'\n",
       "\\item 'short\\_passing'\n",
       "\\item 'volleys'\n",
       "\\item 'dribbling'\n",
       "\\item 'curve'\n",
       "\\item 'free\\_kick\\_accuracy'\n",
       "\\item 'long\\_passing'\n",
       "\\item 'ball\\_control'\n",
       "\\item 'acceleration'\n",
       "\\item 'sprint\\_speed'\n",
       "\\item 'agility'\n",
       "\\item 'reactions'\n",
       "\\item 'balance'\n",
       "\\item 'shot\\_power'\n",
       "\\item 'jumping'\n",
       "\\item 'stamina'\n",
       "\\item 'strength'\n",
       "\\item 'long\\_shots'\n",
       "\\item 'aggression'\n",
       "\\item 'interceptions'\n",
       "\\item 'positioning'\n",
       "\\item 'vision'\n",
       "\\item 'penalties'\n",
       "\\item 'marking'\n",
       "\\item 'standing\\_tackle'\n",
       "\\item 'sliding\\_tackle'\n",
       "\\item 'gk\\_diving'\n",
       "\\item 'gk\\_handling'\n",
       "\\item 'gk\\_kicking'\n",
       "\\item 'gk\\_positioning'\n",
       "\\item 'gk\\_reflexes'\n",
       "\\end{enumerate*}\n"
      ],
      "text/markdown": [
       "1. 'player_api_id'\n",
       "2. 'X.x'\n",
       "3. 'id.x'\n",
       "4. 'player_name'\n",
       "5. 'player_fifa_api_id.x'\n",
       "6. 'birthday'\n",
       "7. 'height'\n",
       "8. 'weight'\n",
       "9. 'X.y'\n",
       "10. 'id.y'\n",
       "11. 'player_fifa_api_id.y'\n",
       "12. 'date'\n",
       "13. 'overall_rating'\n",
       "14. 'potential'\n",
       "15. 'preferred_foot'\n",
       "16. 'attacking_work_rate'\n",
       "17. 'defensive_work_rate'\n",
       "18. 'crossing'\n",
       "19. 'finishing'\n",
       "20. 'heading_accuracy'\n",
       "21. 'short_passing'\n",
       "22. 'volleys'\n",
       "23. 'dribbling'\n",
       "24. 'curve'\n",
       "25. 'free_kick_accuracy'\n",
       "26. 'long_passing'\n",
       "27. 'ball_control'\n",
       "28. 'acceleration'\n",
       "29. 'sprint_speed'\n",
       "30. 'agility'\n",
       "31. 'reactions'\n",
       "32. 'balance'\n",
       "33. 'shot_power'\n",
       "34. 'jumping'\n",
       "35. 'stamina'\n",
       "36. 'strength'\n",
       "37. 'long_shots'\n",
       "38. 'aggression'\n",
       "39. 'interceptions'\n",
       "40. 'positioning'\n",
       "41. 'vision'\n",
       "42. 'penalties'\n",
       "43. 'marking'\n",
       "44. 'standing_tackle'\n",
       "45. 'sliding_tackle'\n",
       "46. 'gk_diving'\n",
       "47. 'gk_handling'\n",
       "48. 'gk_kicking'\n",
       "49. 'gk_positioning'\n",
       "50. 'gk_reflexes'\n",
       "\n",
       "\n"
      ],
      "text/plain": [
       " [1] \"player_api_id\"        \"X.x\"                  \"id.x\"                \n",
       " [4] \"player_name\"          \"player_fifa_api_id.x\" \"birthday\"            \n",
       " [7] \"height\"               \"weight\"               \"X.y\"                 \n",
       "[10] \"id.y\"                 \"player_fifa_api_id.y\" \"date\"                \n",
       "[13] \"overall_rating\"       \"potential\"            \"preferred_foot\"      \n",
       "[16] \"attacking_work_rate\"  \"defensive_work_rate\"  \"crossing\"            \n",
       "[19] \"finishing\"            \"heading_accuracy\"     \"short_passing\"       \n",
       "[22] \"volleys\"              \"dribbling\"            \"curve\"               \n",
       "[25] \"free_kick_accuracy\"   \"long_passing\"         \"ball_control\"        \n",
       "[28] \"acceleration\"         \"sprint_speed\"         \"agility\"             \n",
       "[31] \"reactions\"            \"balance\"              \"shot_power\"          \n",
       "[34] \"jumping\"              \"stamina\"              \"strength\"            \n",
       "[37] \"long_shots\"           \"aggression\"           \"interceptions\"       \n",
       "[40] \"positioning\"          \"vision\"               \"penalties\"           \n",
       "[43] \"marking\"              \"standing_tackle\"      \"sliding_tackle\"      \n",
       "[46] \"gk_diving\"            \"gk_handling\"          \"gk_kicking\"          \n",
       "[49] \"gk_positioning\"       \"gk_reflexes\"         "
      ]
     },
     "metadata": {},
     "output_type": "display_data"
    }
   ],
   "source": [
    "\n",
    "Player = read.csv(\"Player.csv\")\n",
    "P_Attributes = read.csv(\"Player_Attributes.csv\")\n",
    "Players_Attributes= merge(Player,P_Attributes, by.x = \"player_api_id\", \n",
    "                          by.y = \"player_api_id\")\n",
    "\n",
    "colnames(Players_Attributes)"
   ]
  },
  {
   "cell_type": "markdown",
   "metadata": {},
   "source": [
    "#### so the data have 50 feature some of it is not related to our problem "
   ]
  },
  {
   "cell_type": "markdown",
   "metadata": {},
   "source": [
    "# Data Preparation"
   ]
  },
  {
   "cell_type": "markdown",
   "metadata": {},
   "source": [
    "#### lets remove some features [unrelated and Not Numeric] and remove the rows which have empty values"
   ]
  },
  {
   "cell_type": "code",
   "execution_count": 11,
   "metadata": {},
   "outputs": [],
   "source": [
    "needed_att = Players_Attributes[,-c(1,2,3,5,6,7,8,9,10,11,12,15,16,17)]\n",
    "Players_Attributes=na.omit(Players_Attributes)#remove NA"
   ]
  },
  {
   "cell_type": "markdown",
   "metadata": {},
   "source": [
    "#### take the average scores for each player"
   ]
  },
  {
   "cell_type": "code",
   "execution_count": 12,
   "metadata": {},
   "outputs": [],
   "source": [
    "avg_scores=apply(needed_att[,2:ncol(needed_att)],2,function(x)\n",
    "    tapply(x,needed_att$player_name,mean))\n",
    "                 \n",
    "avg_scores=na.omit(avg_scores)"
   ]
  },
  {
   "cell_type": "markdown",
   "metadata": {},
   "source": [
    "# Modeling"
   ]
  },
  {
   "cell_type": "markdown",
   "metadata": {},
   "source": [
    "### Reducing dimensionality Using Principal Component Analysis."
   ]
  },
  {
   "cell_type": "code",
   "execution_count": 13,
   "metadata": {},
   "outputs": [],
   "source": [
    "avg_scores_pca=prcomp(avg_scores,scale. = T)"
   ]
  },
  {
   "cell_type": "markdown",
   "metadata": {},
   "source": [
    "## so lets check the output of the PCA and see which columns we will use"
   ]
  },
  {
   "cell_type": "code",
   "execution_count": 16,
   "metadata": {},
   "outputs": [
    {
     "data": {
      "text/plain": [
       "Importance of components:\n",
       "                          PC1    PC2     PC3     PC4     PC5     PC6     PC7\n",
       "Standard deviation     4.0872 2.4098 1.86022 1.37820 1.23058 0.87532 0.75259\n",
       "Proportion of Variance 0.4773 0.1659 0.09887 0.05427 0.04327 0.02189 0.01618\n",
       "Cumulative Proportion  0.4773 0.6432 0.74208 0.79635 0.83962 0.86151 0.87769\n",
       "                           PC8     PC9    PC10    PC11    PC12    PC13    PC14\n",
       "Standard deviation     0.63471 0.60510 0.58307 0.55273 0.51481 0.50645 0.48231\n",
       "Proportion of Variance 0.01151 0.01046 0.00971 0.00873 0.00757 0.00733 0.00665\n",
       "Cumulative Proportion  0.88920 0.89966 0.90937 0.91810 0.92568 0.93300 0.93965\n",
       "                          PC15   PC16    PC17    PC18    PC19    PC20    PC21\n",
       "Standard deviation     0.47527 0.4386 0.42009 0.41387 0.38841 0.37387 0.35638\n",
       "Proportion of Variance 0.00645 0.0055 0.00504 0.00489 0.00431 0.00399 0.00363\n",
       "Cumulative Proportion  0.94610 0.9516 0.95664 0.96154 0.96585 0.96984 0.97347\n",
       "                         PC22    PC23    PC24    PC25    PC26    PC27    PC28\n",
       "Standard deviation     0.3499 0.33309 0.32451 0.31474 0.29435 0.28137 0.26185\n",
       "Proportion of Variance 0.0035 0.00317 0.00301 0.00283 0.00248 0.00226 0.00196\n",
       "Cumulative Proportion  0.9770 0.98014 0.98315 0.98598 0.98845 0.99071 0.99267\n",
       "                         PC29    PC30    PC31    PC32    PC33    PC34   PC35\n",
       "Standard deviation     0.2509 0.20205 0.19328 0.18314 0.17411 0.16402 0.1566\n",
       "Proportion of Variance 0.0018 0.00117 0.00107 0.00096 0.00087 0.00077 0.0007\n",
       "Cumulative Proportion  0.9945 0.99564 0.99671 0.99766 0.99853 0.99930 1.0000"
      ]
     },
     "metadata": {},
     "output_type": "display_data"
    }
   ],
   "source": [
    "summary(avg_scores_pca)"
   ]
  },
  {
   "cell_type": "markdown",
   "metadata": {},
   "source": [
    "### to see the global picture and the major clusters we will use smooth scatter"
   ]
  },
  {
   "cell_type": "code",
   "execution_count": 17,
   "metadata": {},
   "outputs": [
    {
     "data": {
      "image/png": "[encoded data removed]",
      "text/plain": [
       "plot without title"
      ]
     },
     "metadata": {},
     "output_type": "display_data"
    }
   ],
   "source": [
    "smoothScatter(avg_scores_pca$x[,1:2],nrpoints = 0, \n",
    "              colramp = colorRampPalette(c(\"white\", \"gray5\")))"
   ]
  },
  {
   "cell_type": "markdown",
   "metadata": {},
   "source": [
    "### it seems that there is 3 Clusters in our data so lets applay Kmeans with K = 3 and print a summary for each cluster  and plot them "
   ]
  },
  {
   "cell_type": "code",
   "execution_count": 49,
   "metadata": {},
   "outputs": [
    {
     "data": {
      "text/plain": [
       "player_classes_Kmean3\n",
       "   1    2    3 \n",
       "5078  832 3757 "
      ]
     },
     "metadata": {},
     "output_type": "display_data"
    },
    {
     "data": {
      "image/png": "[encoded data removed]",
      "text/plain": [
       "plot without title"
      ]
     },
     "metadata": {},
     "output_type": "display_data"
    }
   ],
   "source": [
    "comp <- data.frame(avg_scores_pca$x[,1:2])\n",
    "k <- kmeans(comp, 3, nstart=25)\n",
    "player_classes_Kmean3 = k$cluster\n",
    "table(player_classes_Kmean3)\n",
    "plot(comp, col=player_classes_Kmean3)"
   ]
  },
  {
   "cell_type": "markdown",
   "metadata": {},
   "source": [
    "### lets print some of the players name in each one and see if he is a Goalkeeper or play as attacker or defense"
   ]
  },
  {
   "cell_type": "code",
   "execution_count": 50,
   "metadata": {},
   "outputs": [
    {
     "data": {
      "text/html": [
       "<ol class=list-inline>\n",
       "\t<li>'Aaron Cresswell'</li>\n",
       "\t<li>'Aaron Doran'</li>\n",
       "\t<li>'Aaron Hunt'</li>\n",
       "\t<li>'Aaron Lennon'</li>\n",
       "\t<li>'Aaron Meijers'</li>\n",
       "</ol>\n"
      ],
      "text/latex": [
       "\\begin{enumerate*}\n",
       "\\item 'Aaron Cresswell'\n",
       "\\item 'Aaron Doran'\n",
       "\\item 'Aaron Hunt'\n",
       "\\item 'Aaron Lennon'\n",
       "\\item 'Aaron Meijers'\n",
       "\\end{enumerate*}\n"
      ],
      "text/markdown": [
       "1. 'Aaron Cresswell'\n",
       "2. 'Aaron Doran'\n",
       "3. 'Aaron Hunt'\n",
       "4. 'Aaron Lennon'\n",
       "5. 'Aaron Meijers'\n",
       "\n",
       "\n"
      ],
      "text/plain": [
       "[1] \"Aaron Cresswell\" \"Aaron Doran\"     \"Aaron Hunt\"      \"Aaron Lennon\"   \n",
       "[5] \"Aaron Meijers\"  "
      ]
     },
     "metadata": {},
     "output_type": "display_data"
    },
    {
     "data": {
      "text/html": [
       "<ol class=list-inline>\n",
       "\t<li>'Aaron Lennox'</li>\n",
       "\t<li>'Abdoulaye Diallo'</li>\n",
       "\t<li>'Achille Coser'</li>\n",
       "\t<li>'Adam Bogdan'</li>\n",
       "\t<li>'Adam Collin'</li>\n",
       "</ol>\n"
      ],
      "text/latex": [
       "\\begin{enumerate*}\n",
       "\\item 'Aaron Lennox'\n",
       "\\item 'Abdoulaye Diallo'\n",
       "\\item 'Achille Coser'\n",
       "\\item 'Adam Bogdan'\n",
       "\\item 'Adam Collin'\n",
       "\\end{enumerate*}\n"
      ],
      "text/markdown": [
       "1. 'Aaron Lennox'\n",
       "2. 'Abdoulaye Diallo'\n",
       "3. 'Achille Coser'\n",
       "4. 'Adam Bogdan'\n",
       "5. 'Adam Collin'\n",
       "\n",
       "\n"
      ],
      "text/plain": [
       "[1] \"Aaron Lennox\"     \"Abdoulaye Diallo\" \"Achille Coser\"    \"Adam Bogdan\"     \n",
       "[5] \"Adam Collin\"     "
      ]
     },
     "metadata": {},
     "output_type": "display_data"
    },
    {
     "data": {
      "text/html": [
       "<ol class=list-inline>\n",
       "\t<li>'Aaron Appindangoye'</li>\n",
       "\t<li>'Aaron Galindo'</li>\n",
       "\t<li>'Aaron Hughes'</li>\n",
       "\t<li>'Aaron Kuhl'</li>\n",
       "\t<li>'Aaron Mokoena'</li>\n",
       "</ol>\n"
      ],
      "text/latex": [
       "\\begin{enumerate*}\n",
       "\\item 'Aaron Appindangoye'\n",
       "\\item 'Aaron Galindo'\n",
       "\\item 'Aaron Hughes'\n",
       "\\item 'Aaron Kuhl'\n",
       "\\item 'Aaron Mokoena'\n",
       "\\end{enumerate*}\n"
      ],
      "text/markdown": [
       "1. 'Aaron Appindangoye'\n",
       "2. 'Aaron Galindo'\n",
       "3. 'Aaron Hughes'\n",
       "4. 'Aaron Kuhl'\n",
       "5. 'Aaron Mokoena'\n",
       "\n",
       "\n"
      ],
      "text/plain": [
       "[1] \"Aaron Appindangoye\" \"Aaron Galindo\"      \"Aaron Hughes\"      \n",
       "[4] \"Aaron Kuhl\"         \"Aaron Mokoena\"     "
      ]
     },
     "metadata": {},
     "output_type": "display_data"
    }
   ],
   "source": [
    "names(player_classes_Kmean3[player_classes_Kmean3==1][1:5])\n",
    "names(player_classes_Kmean3[player_classes_Kmean3==2][1:5])\n",
    "names(player_classes_Kmean3[player_classes_Kmean3==3][1:5])"
   ]
  },
  {
   "cell_type": "markdown",
   "metadata": {},
   "source": [
    "### for me, it seems that k-Mean with k = 3 classify the goalkeepers good but fail with classify defender and attacker it is okay becouse some players play as Midfielder and thay have good defence and attacking skills so lets try to add another cluster"
   ]
  },
  {
   "cell_type": "code",
   "execution_count": 70,
   "metadata": {},
   "outputs": [
    {
     "data": {
      "text/plain": [
       "player_classes_Kmean4\n",
       "   1    2    3    4 \n",
       "2660 3567  829 2611 "
      ]
     },
     "metadata": {},
     "output_type": "display_data"
    },
    {
     "data": {
      "image/png": "[encoded data removed]",
      "text/plain": [
       "plot without title"
      ]
     },
     "metadata": {},
     "output_type": "display_data"
    }
   ],
   "source": [
    "k <- kmeans(comp, 4, nstart=25)\n",
    "player_classes_Kmean4 = k$cluster\n",
    "table(player_classes_Kmean4)\n",
    "plot(comp, col=player_classes_Kmean4)"
   ]
  },
  {
   "cell_type": "code",
   "execution_count": 72,
   "metadata": {},
   "outputs": [
    {
     "data": {
      "text/html": [
       "<ol class=list-inline>\n",
       "\t<li>'Alessandro Gamberini'</li>\n",
       "\t<li>'Alessandro Lambrughi'</li>\n",
       "\t<li>'Alessandro Lucarelli'</li>\n",
       "\t<li>'Alessandro Mangiarrati'</li>\n",
       "\t<li>'Alessandro Nesta'</li>\n",
       "\t<li>'Alessio Romagnoli'</li>\n",
       "</ol>\n"
      ],
      "text/latex": [
       "\\begin{enumerate*}\n",
       "\\item 'Alessandro Gamberini'\n",
       "\\item 'Alessandro Lambrughi'\n",
       "\\item 'Alessandro Lucarelli'\n",
       "\\item 'Alessandro Mangiarrati'\n",
       "\\item 'Alessandro Nesta'\n",
       "\\item 'Alessio Romagnoli'\n",
       "\\end{enumerate*}\n"
      ],
      "text/markdown": [
       "1. 'Alessandro Gamberini'\n",
       "2. 'Alessandro Lambrughi'\n",
       "3. 'Alessandro Lucarelli'\n",
       "4. 'Alessandro Mangiarrati'\n",
       "5. 'Alessandro Nesta'\n",
       "6. 'Alessio Romagnoli'\n",
       "\n",
       "\n"
      ],
      "text/plain": [
       "[1] \"Alessandro Gamberini\"   \"Alessandro Lambrughi\"   \"Alessandro Lucarelli\"  \n",
       "[4] \"Alessandro Mangiarrati\" \"Alessandro Nesta\"       \"Alessio Romagnoli\"     "
      ]
     },
     "metadata": {},
     "output_type": "display_data"
    },
    {
     "data": {
      "text/html": [
       "<ol class=list-inline>\n",
       "\t<li>'Akpo Sodje'</li>\n",
       "\t<li>'Alain Schultz'</li>\n",
       "\t<li>'Alain Traore'</li>\n",
       "\t<li>'Alan'</li>\n",
       "\t<li>'Alan Kardec'</li>\n",
       "\t<li>'Alan O\\'Brien'</li>\n",
       "</ol>\n"
      ],
      "text/latex": [
       "\\begin{enumerate*}\n",
       "\\item 'Akpo Sodje'\n",
       "\\item 'Alain Schultz'\n",
       "\\item 'Alain Traore'\n",
       "\\item 'Alan'\n",
       "\\item 'Alan Kardec'\n",
       "\\item 'Alan O\\textbackslash{}'Brien'\n",
       "\\end{enumerate*}\n"
      ],
      "text/markdown": [
       "1. 'Akpo Sodje'\n",
       "2. 'Alain Schultz'\n",
       "3. 'Alain Traore'\n",
       "4. 'Alan'\n",
       "5. 'Alan Kardec'\n",
       "6. 'Alan O\\'Brien'\n",
       "\n",
       "\n"
      ],
      "text/plain": [
       "[1] \"Akpo Sodje\"    \"Alain Schultz\" \"Alain Traore\"  \"Alan\"         \n",
       "[5] \"Alan Kardec\"   \"Alan O'Brien\" "
      ]
     },
     "metadata": {},
     "output_type": "display_data"
    },
    {
     "data": {
      "text/html": [
       "<ol class=list-inline>\n",
       "\t<li>'Bogdan Lobont'</li>\n",
       "\t<li>'Bojan Jorgacevic'</li>\n",
       "\t<li>'Boris Peskovic'</li>\n",
       "\t<li>'Boris Radunovic'</li>\n",
       "\t<li>'Boubacar Barry Copa'</li>\n",
       "\t<li>'Boy Waterman'</li>\n",
       "</ol>\n"
      ],
      "text/latex": [
       "\\begin{enumerate*}\n",
       "\\item 'Bogdan Lobont'\n",
       "\\item 'Bojan Jorgacevic'\n",
       "\\item 'Boris Peskovic'\n",
       "\\item 'Boris Radunovic'\n",
       "\\item 'Boubacar Barry Copa'\n",
       "\\item 'Boy Waterman'\n",
       "\\end{enumerate*}\n"
      ],
      "text/markdown": [
       "1. 'Bogdan Lobont'\n",
       "2. 'Bojan Jorgacevic'\n",
       "3. 'Boris Peskovic'\n",
       "4. 'Boris Radunovic'\n",
       "5. 'Boubacar Barry Copa'\n",
       "6. 'Boy Waterman'\n",
       "\n",
       "\n"
      ],
      "text/plain": [
       "[1] \"Bogdan Lobont\"       \"Bojan Jorgacevic\"    \"Boris Peskovic\"     \n",
       "[4] \"Boris Radunovic\"     \"Boubacar Barry Copa\" \"Boy Waterman\"       "
      ]
     },
     "metadata": {},
     "output_type": "display_data"
    },
    {
     "data": {
      "text/html": [
       "<ol class=list-inline>\n",
       "\t<li>'Alexander Meier'</li>\n",
       "\t<li>'Alexander Ring'</li>\n",
       "\t<li>'Alexandre Coeff'</li>\n",
       "\t<li>'Alexandre Hauw'</li>\n",
       "\t<li>'Alexandros Tziolis'</li>\n",
       "\t<li>'Alexis Norambuena Ruz'</li>\n",
       "</ol>\n"
      ],
      "text/latex": [
       "\\begin{enumerate*}\n",
       "\\item 'Alexander Meier'\n",
       "\\item 'Alexander Ring'\n",
       "\\item 'Alexandre Coeff'\n",
       "\\item 'Alexandre Hauw'\n",
       "\\item 'Alexandros Tziolis'\n",
       "\\item 'Alexis Norambuena Ruz'\n",
       "\\end{enumerate*}\n"
      ],
      "text/markdown": [
       "1. 'Alexander Meier'\n",
       "2. 'Alexander Ring'\n",
       "3. 'Alexandre Coeff'\n",
       "4. 'Alexandre Hauw'\n",
       "5. 'Alexandros Tziolis'\n",
       "6. 'Alexis Norambuena Ruz'\n",
       "\n",
       "\n"
      ],
      "text/plain": [
       "[1] \"Alexander Meier\"       \"Alexander Ring\"        \"Alexandre Coeff\"      \n",
       "[4] \"Alexandre Hauw\"        \"Alexandros Tziolis\"    \"Alexis Norambuena Ruz\""
      ]
     },
     "metadata": {},
     "output_type": "display_data"
    }
   ],
   "source": [
    "names(player_classes_Kmean4[player_classes_Kmean4==1][100:105])\n",
    "names(player_classes_Kmean4[player_classes_Kmean4==2][100:105])\n",
    "names(player_classes_Kmean4[player_classes_Kmean4==3][100:105])\n",
    "names(player_classes_Kmean4[player_classes_Kmean4==4][100:105])"
   ]
  },
  {
   "cell_type": "markdown",
   "metadata": {},
   "source": [
    "### i used google to give me some information about the actual position for this names and my observation is:\n",
    "    # 1st cluster is for defender\n",
    "    # 2nd cluster is for attacker\n",
    "    # 3rd cluster is for goalkeeper\n",
    "    # 4th cluster is for Midfielder"
   ]
  },
  {
   "cell_type": "code",
   "execution_count": 59,
   "metadata": {},
   "outputs": [
    {
     "data": {
      "text/html": [
       "<ol class=list-inline>\n",
       "\t<li>'overall_rating'</li>\n",
       "\t<li>'potential'</li>\n",
       "\t<li>'crossing'</li>\n",
       "\t<li>'finishing'</li>\n",
       "\t<li>'heading_accuracy'</li>\n",
       "\t<li>'short_passing'</li>\n",
       "\t<li>'volleys'</li>\n",
       "\t<li>'dribbling'</li>\n",
       "\t<li>'curve'</li>\n",
       "\t<li>'free_kick_accuracy'</li>\n",
       "\t<li>'long_passing'</li>\n",
       "\t<li>'ball_control'</li>\n",
       "\t<li>'acceleration'</li>\n",
       "\t<li>'sprint_speed'</li>\n",
       "\t<li>'agility'</li>\n",
       "\t<li>'reactions'</li>\n",
       "\t<li>'balance'</li>\n",
       "\t<li>'shot_power'</li>\n",
       "\t<li>'jumping'</li>\n",
       "\t<li>'stamina'</li>\n",
       "\t<li>'strength'</li>\n",
       "\t<li>'long_shots'</li>\n",
       "\t<li>'aggression'</li>\n",
       "\t<li>'interceptions'</li>\n",
       "\t<li>'positioning'</li>\n",
       "\t<li>'vision'</li>\n",
       "\t<li>'penalties'</li>\n",
       "\t<li>'marking'</li>\n",
       "\t<li>'standing_tackle'</li>\n",
       "\t<li>'sliding_tackle'</li>\n",
       "\t<li>'gk_diving'</li>\n",
       "\t<li>'gk_handling'</li>\n",
       "\t<li>'gk_kicking'</li>\n",
       "\t<li>'gk_positioning'</li>\n",
       "\t<li>'gk_reflexes'</li>\n",
       "</ol>\n"
      ],
      "text/latex": [
       "\\begin{enumerate*}\n",
       "\\item 'overall\\_rating'\n",
       "\\item 'potential'\n",
       "\\item 'crossing'\n",
       "\\item 'finishing'\n",
       "\\item 'heading\\_accuracy'\n",
       "\\item 'short\\_passing'\n",
       "\\item 'volleys'\n",
       "\\item 'dribbling'\n",
       "\\item 'curve'\n",
       "\\item 'free\\_kick\\_accuracy'\n",
       "\\item 'long\\_passing'\n",
       "\\item 'ball\\_control'\n",
       "\\item 'acceleration'\n",
       "\\item 'sprint\\_speed'\n",
       "\\item 'agility'\n",
       "\\item 'reactions'\n",
       "\\item 'balance'\n",
       "\\item 'shot\\_power'\n",
       "\\item 'jumping'\n",
       "\\item 'stamina'\n",
       "\\item 'strength'\n",
       "\\item 'long\\_shots'\n",
       "\\item 'aggression'\n",
       "\\item 'interceptions'\n",
       "\\item 'positioning'\n",
       "\\item 'vision'\n",
       "\\item 'penalties'\n",
       "\\item 'marking'\n",
       "\\item 'standing\\_tackle'\n",
       "\\item 'sliding\\_tackle'\n",
       "\\item 'gk\\_diving'\n",
       "\\item 'gk\\_handling'\n",
       "\\item 'gk\\_kicking'\n",
       "\\item 'gk\\_positioning'\n",
       "\\item 'gk\\_reflexes'\n",
       "\\end{enumerate*}\n"
      ],
      "text/markdown": [
       "1. 'overall_rating'\n",
       "2. 'potential'\n",
       "3. 'crossing'\n",
       "4. 'finishing'\n",
       "5. 'heading_accuracy'\n",
       "6. 'short_passing'\n",
       "7. 'volleys'\n",
       "8. 'dribbling'\n",
       "9. 'curve'\n",
       "10. 'free_kick_accuracy'\n",
       "11. 'long_passing'\n",
       "12. 'ball_control'\n",
       "13. 'acceleration'\n",
       "14. 'sprint_speed'\n",
       "15. 'agility'\n",
       "16. 'reactions'\n",
       "17. 'balance'\n",
       "18. 'shot_power'\n",
       "19. 'jumping'\n",
       "20. 'stamina'\n",
       "21. 'strength'\n",
       "22. 'long_shots'\n",
       "23. 'aggression'\n",
       "24. 'interceptions'\n",
       "25. 'positioning'\n",
       "26. 'vision'\n",
       "27. 'penalties'\n",
       "28. 'marking'\n",
       "29. 'standing_tackle'\n",
       "30. 'sliding_tackle'\n",
       "31. 'gk_diving'\n",
       "32. 'gk_handling'\n",
       "33. 'gk_kicking'\n",
       "34. 'gk_positioning'\n",
       "35. 'gk_reflexes'\n",
       "\n",
       "\n"
      ],
      "text/plain": [
       " [1] \"overall_rating\"     \"potential\"          \"crossing\"          \n",
       " [4] \"finishing\"          \"heading_accuracy\"   \"short_passing\"     \n",
       " [7] \"volleys\"            \"dribbling\"          \"curve\"             \n",
       "[10] \"free_kick_accuracy\" \"long_passing\"       \"ball_control\"      \n",
       "[13] \"acceleration\"       \"sprint_speed\"       \"agility\"           \n",
       "[16] \"reactions\"          \"balance\"            \"shot_power\"        \n",
       "[19] \"jumping\"            \"stamina\"            \"strength\"          \n",
       "[22] \"long_shots\"         \"aggression\"         \"interceptions\"     \n",
       "[25] \"positioning\"        \"vision\"             \"penalties\"         \n",
       "[28] \"marking\"            \"standing_tackle\"    \"sliding_tackle\"    \n",
       "[31] \"gk_diving\"          \"gk_handling\"        \"gk_kicking\"        \n",
       "[34] \"gk_positioning\"     \"gk_reflexes\"       "
      ]
     },
     "metadata": {},
     "output_type": "display_data"
    }
   ],
   "source": [
    "colnames(avg_scores)"
   ]
  },
  {
   "cell_type": "markdown",
   "metadata": {},
   "source": [
    "# Evaluation"
   ]
  },
  {
   "cell_type": "markdown",
   "metadata": {},
   "source": [
    "## lets se if we are correct or not we will use the most important feature for each position (eg.)\n",
    "    # for attacker the finishing is the most important\n",
    "    # for defender the interceptions is the most important\n",
    "    # for goalkeeper the gk_reflexes is the most important\n",
    "    # for Midfielder should be high in both interceptions and finishing"
   ]
  },
  {
   "cell_type": "code",
   "execution_count": 73,
   "metadata": {},
   "outputs": [
    {
     "data": {
      "text/html": [
       "<ol class=list-inline>\n",
       "\t<li>'overall_rating'</li>\n",
       "\t<li>'potential'</li>\n",
       "\t<li>'crossing'</li>\n",
       "\t<li>'finishing'</li>\n",
       "\t<li>'heading_accuracy'</li>\n",
       "\t<li>'short_passing'</li>\n",
       "\t<li>'volleys'</li>\n",
       "\t<li>'dribbling'</li>\n",
       "\t<li>'curve'</li>\n",
       "\t<li>'free_kick_accuracy'</li>\n",
       "\t<li>'long_passing'</li>\n",
       "\t<li>'ball_control'</li>\n",
       "\t<li>'acceleration'</li>\n",
       "\t<li>'sprint_speed'</li>\n",
       "\t<li>'agility'</li>\n",
       "\t<li>'reactions'</li>\n",
       "\t<li>'balance'</li>\n",
       "\t<li>'shot_power'</li>\n",
       "\t<li>'jumping'</li>\n",
       "\t<li>'stamina'</li>\n",
       "\t<li>'strength'</li>\n",
       "\t<li>'long_shots'</li>\n",
       "\t<li>'aggression'</li>\n",
       "\t<li>'interceptions'</li>\n",
       "\t<li>'positioning'</li>\n",
       "\t<li>'vision'</li>\n",
       "\t<li>'penalties'</li>\n",
       "\t<li>'marking'</li>\n",
       "\t<li>'standing_tackle'</li>\n",
       "\t<li>'sliding_tackle'</li>\n",
       "\t<li>'gk_diving'</li>\n",
       "\t<li>'gk_handling'</li>\n",
       "\t<li>'gk_kicking'</li>\n",
       "\t<li>'gk_positioning'</li>\n",
       "\t<li>'gk_reflexes'</li>\n",
       "</ol>\n"
      ],
      "text/latex": [
       "\\begin{enumerate*}\n",
       "\\item 'overall\\_rating'\n",
       "\\item 'potential'\n",
       "\\item 'crossing'\n",
       "\\item 'finishing'\n",
       "\\item 'heading\\_accuracy'\n",
       "\\item 'short\\_passing'\n",
       "\\item 'volleys'\n",
       "\\item 'dribbling'\n",
       "\\item 'curve'\n",
       "\\item 'free\\_kick\\_accuracy'\n",
       "\\item 'long\\_passing'\n",
       "\\item 'ball\\_control'\n",
       "\\item 'acceleration'\n",
       "\\item 'sprint\\_speed'\n",
       "\\item 'agility'\n",
       "\\item 'reactions'\n",
       "\\item 'balance'\n",
       "\\item 'shot\\_power'\n",
       "\\item 'jumping'\n",
       "\\item 'stamina'\n",
       "\\item 'strength'\n",
       "\\item 'long\\_shots'\n",
       "\\item 'aggression'\n",
       "\\item 'interceptions'\n",
       "\\item 'positioning'\n",
       "\\item 'vision'\n",
       "\\item 'penalties'\n",
       "\\item 'marking'\n",
       "\\item 'standing\\_tackle'\n",
       "\\item 'sliding\\_tackle'\n",
       "\\item 'gk\\_diving'\n",
       "\\item 'gk\\_handling'\n",
       "\\item 'gk\\_kicking'\n",
       "\\item 'gk\\_positioning'\n",
       "\\item 'gk\\_reflexes'\n",
       "\\end{enumerate*}\n"
      ],
      "text/markdown": [
       "1. 'overall_rating'\n",
       "2. 'potential'\n",
       "3. 'crossing'\n",
       "4. 'finishing'\n",
       "5. 'heading_accuracy'\n",
       "6. 'short_passing'\n",
       "7. 'volleys'\n",
       "8. 'dribbling'\n",
       "9. 'curve'\n",
       "10. 'free_kick_accuracy'\n",
       "11. 'long_passing'\n",
       "12. 'ball_control'\n",
       "13. 'acceleration'\n",
       "14. 'sprint_speed'\n",
       "15. 'agility'\n",
       "16. 'reactions'\n",
       "17. 'balance'\n",
       "18. 'shot_power'\n",
       "19. 'jumping'\n",
       "20. 'stamina'\n",
       "21. 'strength'\n",
       "22. 'long_shots'\n",
       "23. 'aggression'\n",
       "24. 'interceptions'\n",
       "25. 'positioning'\n",
       "26. 'vision'\n",
       "27. 'penalties'\n",
       "28. 'marking'\n",
       "29. 'standing_tackle'\n",
       "30. 'sliding_tackle'\n",
       "31. 'gk_diving'\n",
       "32. 'gk_handling'\n",
       "33. 'gk_kicking'\n",
       "34. 'gk_positioning'\n",
       "35. 'gk_reflexes'\n",
       "\n",
       "\n"
      ],
      "text/plain": [
       " [1] \"overall_rating\"     \"potential\"          \"crossing\"          \n",
       " [4] \"finishing\"          \"heading_accuracy\"   \"short_passing\"     \n",
       " [7] \"volleys\"            \"dribbling\"          \"curve\"             \n",
       "[10] \"free_kick_accuracy\" \"long_passing\"       \"ball_control\"      \n",
       "[13] \"acceleration\"       \"sprint_speed\"       \"agility\"           \n",
       "[16] \"reactions\"          \"balance\"            \"shot_power\"        \n",
       "[19] \"jumping\"            \"stamina\"            \"strength\"          \n",
       "[22] \"long_shots\"         \"aggression\"         \"interceptions\"     \n",
       "[25] \"positioning\"        \"vision\"             \"penalties\"         \n",
       "[28] \"marking\"            \"standing_tackle\"    \"sliding_tackle\"    \n",
       "[31] \"gk_diving\"          \"gk_handling\"        \"gk_kicking\"        \n",
       "[34] \"gk_positioning\"     \"gk_reflexes\"       "
      ]
     },
     "metadata": {},
     "output_type": "display_data"
    }
   ],
   "source": [
    "colnames(avg_scores)"
   ]
  },
  {
   "cell_type": "code",
   "execution_count": 74,
   "metadata": {},
   "outputs": [],
   "source": [
    "player_classes_Kmean4[which(player_classes_Kmean4==1)]=\"defender\"\n",
    "player_classes_Kmean4[which(player_classes_Kmean4==2)]=\"attacker\"\n",
    "player_classes_Kmean4[which(player_classes_Kmean4==3)]=\"goalkeeper\"\n",
    "player_classes_Kmean4[which(player_classes_Kmean4==4)]=\"midfielder\"\n",
    "player_classes_Kmean4=factor(player_classes_Kmean4, \n",
    "            levels = c(\"defender\", \"attacker\", \"goalkeeper\",\"midfielder\"))"
   ]
  },
  {
   "cell_type": "code",
   "execution_count": 75,
   "metadata": {},
   "outputs": [
    {
     "data": {
      "image/png": "[encoded data removed]",
      "text/plain": [
       "Plot with title \"finishing\""
      ]
     },
     "metadata": {},
     "output_type": "display_data"
    }
   ],
   "source": [
    "k=4\n",
    "boxplot(avg_scores[,k]~player_classes_Kmean4,main=colnames(avg_scores)[k],\n",
    "ylab=\"Average Score\")"
   ]
  },
  {
   "cell_type": "markdown",
   "metadata": {},
   "source": [
    "## So yes as we expected finishing is high for both attacker and midfielder\n",
    "\n"
   ]
  },
  {
   "cell_type": "code",
   "execution_count": 76,
   "metadata": {},
   "outputs": [
    {
     "data": {
      "image/png": "[encoded data removed]",
      "text/plain": [
       "Plot with title \"interceptions\""
      ]
     },
     "metadata": {},
     "output_type": "display_data"
    }
   ],
   "source": [
    "k=24\n",
    "boxplot(avg_scores[,k]~player_classes_Kmean4,main=colnames(avg_scores)[k],\n",
    "ylab=\"Average Score\")"
   ]
  },
  {
   "cell_type": "markdown",
   "metadata": {},
   "source": [
    "## and interceptions is high for both defender and midfielder"
   ]
  },
  {
   "cell_type": "code",
   "execution_count": 78,
   "metadata": {},
   "outputs": [
    {
     "data": {
      "image/png": "[encoded data removed]",
      "text/plain": [
       "Plot with title \"gk_reflexes\""
      ]
     },
     "metadata": {},
     "output_type": "display_data"
    }
   ],
   "source": [
    "k=35\n",
    "boxplot(avg_scores[,k]~player_classes_Kmean4,main=colnames(avg_scores)[k],\n",
    "ylab=\"Average Score\")"
   ]
  },
  {
   "cell_type": "markdown",
   "metadata": {},
   "source": [
    "## and gk_reflexes is high for goalkeeper"
   ]
  },
  {
   "cell_type": "markdown",
   "metadata": {},
   "source": [
    "# Deploymen"
   ]
  },
  {
   "cell_type": "markdown",
   "metadata": {},
   "source": [
    "### the code and the CSV data file hosted on github"
   ]
  },
  {
   "cell_type": "markdown",
   "metadata": {},
   "source": [
    "https://github.com/m4bulmagd/Data-Mining-Report-JMU"
   ]
  },
  {
   "cell_type": "markdown",
   "metadata": {},
   "source": [
    "________________________________"
   ]
  },
  {
   "cell_type": "code",
   "execution_count": null,
   "metadata": {},
   "outputs": [],
   "source": []
  },
  {
   "cell_type": "code",
   "execution_count": null,
   "metadata": {},
   "outputs": [],
   "source": []
  }
 ],
 "metadata": {
  "kernelspec": {
   "display_name": "R",
   "language": "R",
   "name": "ir"
  },
  "language_info": {
   "codemirror_mode": "r",
   "file_extension": ".r",
   "mimetype": "text/x-r-source",
   "name": "R",
   "pygments_lexer": "r",
   "version": "3.4.3"
  }
 },
 "nbformat": 4,
 "nbformat_minor": 2
}
